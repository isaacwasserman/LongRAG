{
 "cells": [
  {
   "cell_type": "code",
   "execution_count": 37,
   "metadata": {},
   "outputs": [],
   "source": [
    "from llama_index.core import Settings, VectorStoreIndex, SimpleDirectoryReader, StorageContext, load_index_from_storage\n",
    "from llama_index.core.node_parser import SentenceSplitter\n",
    "from llama_index.llms.openai import OpenAI\n",
    "from llama_index.embeddings.openai import OpenAIEmbedding\n",
    "\n",
    "# import textnode\n",
    "from llama_index.core.schema import TextNode\n",
    "\n",
    "from aws_mixtral import mixtral\n",
    "import re"
   ]
  },
  {
   "cell_type": "code",
   "execution_count": 35,
   "metadata": {},
   "outputs": [],
   "source": [
    "text = \"Picardo was regarded as an \\\"outstanding\\\" muralist.At the same time his drawings of buildings and architectural details were published as illustrations in a best-selling textbook on monumental and historic Spanish architecture, Arquitectura Popular Espa\\u00f1ola, by the restoration and conservation architect Leopoldo Torres Balb\\u00e1s. Picardo travelled around Spain with him, making a multitude of detailed drawings of vernacular architectural elements for Balb\\u00e1s' books.. Picardo's published architectural drawings were highly regarded. They were described as \\\"magnificent\\\" by the leading Spanish restoration architect Luis Men\\u00e9ndez-Pidal y \\u00c1lvarez.In 1959 Picardo was given an unusual commission: to design a pack of baraja de naipes (playing cards) for exclusive use as advertising material by the Spanish fashion brand Loewe. With much imagination he personalised the characters he portrayed, for instance rendering the King of Hearts as the Emperor Charlemagne, the King of Clubs as Goliath, the King of Diamonds as Julius Caesar and the King of Clubs as Alexander the Great. They were produced in colour by the Spanish firm Naipes Heraclio Fournier and surviving packs are much in demand by collectors. Another games design produced by Picardo at much the same time was a set of wooden chess pieces formed in tall, slender, conical shapes and, with the exception of the pawns, surmounted by intricate and delicate indications of the pieces' types. It is dated to 1960.Around 1960 Picardo was rewarded by the Direcci\\u00f3n General de Arquitectura (DGA) for the many illustrations he had provided for the DGA's Bolet\\u00edn since he was a student with the publication of a small book, Dibujos de Jos\\u00e9 Luis Picardo (Drawings of Jos\\u00e9 Luis Picardo). More than 60 drawings appear in the book, both illustrations and humorous cartoons, and the foreword compares Picardo's work to illustrators such as the Romanian-American Saul Steinberg and in Britain Osbert Lancaster and Hugh Casson. The book is long out of print and virtually unknown in Spain, and not at all elsewhere, but is available second-hand. Paradores de Turismo. From the early 1960s to 1985 Picardo dedicated much of his professional life to the state-run hotel chain, Paradores de Turismo de Espa\\u00f1a. He had for some time carried out minor work for the Ministerio de Informaci\\u00f3n y Turismo which controlled the hotel network. For the purposes of tourism the Ministry and its forebears had for over 30 years rehabilitated rundown and sometimes ruined historic buildings such as castles and convents and converted them into luxury hotels in a style that went beyond ordinary hotel use. In the early 1960s, as Spanish tourism increased, the Ministry decided to rapidly expand its Parador operation (which would within a decade grow from 40 to 83 establishments) and Picardo, with his previous experience of historical restoration and his abiding interest in historical and vernacular buildings, was seen by the Ministry be a suitable architect to take on much of this type of work.. Picardo began working for Paradores on a series of restorations of old, monumental buildings and sometimes building new establishments adjacent to ruined monuments in a style that faithfully copied their original designs. His hybrid conversions maintained and often embellished the monuments' ancient appearance while at the same time finding inspiration in them for the style of luxurious modern hotel arrangements the authorities required.. A wealth of Picardo's drawings for his Paradores projects survive. There are large collections of extensively detailed plans which cover his designs from whole Paradores to the smallest detail of door furniture. There are axonometric before-and-after drawings of the buildings and the landscapes around them. There are bird's eye views exercising his mastery of perspective and his spatial vision. They all show meticulous skill.For nearly twenty years, from the early 1960s to his last work for the Paradores in the 1980s, Picardo carried out eleven major reconstructions of historical buildings and/or erected sympathetic and imitative new constructions abutting them or rising from their ruined foundations. With a number he returned to build additions to his earlier work. He also worked on a number of other Parador projects which for various reasons did not reach fruition. His eleven Parador masterworks encouraged other Spanish architects to work in the same vein, and Portuguese architects, too, in the similar state-run chain of hotels in Portugal, the Pousadas de Portugal. Picardo's work for Paradores de Turismo is highly regarded by other professionals, and also by hotel guests who revel in the historical imagery and romance of his work. Parador de Guadalupe: Zurbar\\u00e1n.\"\n",
    "\n",
    "\" - José Luis Picardo was an \\\"outstanding\\\" muralist and architectural illustrator.\\n- His detailed drawings of Spanish architecture were published in Arquitectura Popular Española by Leopoldo Torres Balbás.\\n- Picardo's architectural drawings were highly regarded, described as \\\"magnificent\\\" by Luis Menéndez-Pidal y Álvarez.\\n- In 1959, Picardo designed a pack of baraja de naipes for Loewe, featuring historical figures like Charlemagne and Julius Caesar.\\n- Around 1960, he also created a set of wooden chess pieces with intricate designs.\\n- Picardo was awarded for his illustrations provided to the DGA with the publication of Dibujos de José Luis Picardo in 1960.\\n- From the early 1960s to 1985, Picardo dedicated his professional life to Paradores de Turismo de España.\\n- He worked on restorations of historical buildings and created new establishments in a style that copied their original designs.\\n- His work for Paradores maintained and embellished monuments' ancient appearance while incorporating luxurious modern hotel arrangements.\\n- A wealth of Picardo's drawings for his Paradores projects survive, showcasing his meticulous skill.\\n- From the early 1960s to the 1980s, Picardo carried out eleven major reconstructions and additions for Paradores.\\n- His work for Paradores encouraged other Spanish and Portuguese architects to work in a similar historical style.\\n- Picardo's Parador work is highly regarded by professionals and hotel guests for its historical imagery and romance.\\n- One notable project, Parador de Guadalupe, features Zurbarán-inspired designs.\""
   ]
  },
  {
   "cell_type": "code",
   "execution_count": 61,
   "metadata": {},
   "outputs": [],
   "source": [
    "prompt = f\"\"\"\\\n",
    "    {text}\n",
    "\n",
    "    Summarize the passage above as a series of bullet points. \\\n",
    "    Every piece of information should be included in the summary. \\\n",
    "    The summary should be concise and easy to read. \\\n",
    "    The summary should be between 250 and 350 words. \\\n",
    "    Each sentence should have AT LEAST 1 bullet point. \\\n",
    "    The bullet points should be sentence fragments, not complete sentences. \\\n",
    "\n",
    "    Summary: \\\n",
    "\"\"\"\n",
    "\n",
    "prompt = re.sub(r\" +\", \" \", prompt)\n",
    "\n",
    "response = mixtral.complete(prompt)"
   ]
  },
  {
   "cell_type": "code",
   "execution_count": 62,
   "metadata": {},
   "outputs": [
    {
     "data": {
      "text/plain": [
       "' - José Luis Picardo was an \"outstanding\" muralist and architectural illustrator.\\n- His detailed drawings of Spanish architecture were published in Arquitectura Popular Española by Leopoldo Torres Balbás.\\n- Picardo\\'s architectural drawings were highly regarded, described as \"magnificent\" by Luis Menéndez-Pidal y Álvarez.\\n- In 1959, Picardo designed a pack of baraja de naipes for Loewe, featuring historical figures like Charlemagne and Julius Caesar.\\n- Around 1960, he also created a set of wooden chess pieces with intricate designs.\\n- Picardo was awarded for his illustrations provided to the DGA with the publication of Dibujos de José Luis Picardo in 1960.\\n- From the early 1960s to 1985, Picardo dedicated his professional life to Paradores de Turismo de España.\\n- He worked on restorations of historical buildings and created new establishments in a style that copied their original designs.\\n- His work for Paradores maintained and embellished monuments\\' ancient appearance while incorporating luxurious modern hotel arrangements.\\n- A wealth of Picardo\\'s drawings for his Paradores projects survive, showcasing his meticulous skill.\\n- From the early 1960s to the 1980s, Picardo carried out eleven major reconstructions and additions for Paradores.\\n- His work for Paradores encouraged other Spanish and Portuguese architects to work in a similar historical style.\\n- Picardo\\'s Parador work is highly regarded by professionals and hotel guests for its historical imagery and romance.\\n- One notable project, Parador de Guadalupe, features Zurbarán-inspired designs.'"
      ]
     },
     "execution_count": 62,
     "metadata": {},
     "output_type": "execute_result"
    }
   ],
   "source": [
    "response.text"
   ]
  },
  {
   "cell_type": "code",
   "execution_count": null,
   "metadata": {},
   "outputs": [],
   "source": [
    "\" - José Luis Picardo was an \\\"outstanding\\\" muralist and architectural illustrator.\\n- He traveled around Spain with Leopoldo Torres Balbás, making detailed drawings of vernacular architectural elements for Balbás' books.\\n- Picardo's published architectural drawings were highly regarded, described as \\\"magnificent\\\" by Luis Menéndez-Pidal y Álvarez.\\n- In 1959, Picardo was commissioned to design a pack of baraja de naipes (playing cards) for Loewe, with personalized character designs.\\n- Around 1960, Picardo also designed a set of wooden chess pieces with intricate details.\\n- In 1960, Picardo was rewarded by the Dirección General de Arquitectura (DGA) with the publication of a book of his drawings, Dibujos de José Luis Picardo.\\n- From the early 1960s to 1985, Picardo dedicated much of his professional life to Paradores de Turismo de España, a state-run hotel chain.\\n- Picardo worked on the rehabilitation and conversion of rundown historic buildings into luxury hotels, maintaining and embellishing their ancient appearance while incorporating modern hotel arrangements.\\n- Picardo's work for Paradores encouraged other Spanish and Portuguese architects to work in the same style for their state-run hotel chains.\\n- Picardo's Parador projects are highly regarded by other professionals and hotel guests for their historical imagery and romance.\""
   ]
  },
  {
   "cell_type": "code",
   "execution_count": 63,
   "metadata": {},
   "outputs": [],
   "source": [
    "prompt = f\"\"\"\\\n",
    "    {text}\n",
    "\n",
    "    Take notes on the passage above. \\\n",
    "    You will be quizzed on the information later, and you must have every detail in your notes because you will be asked about very specific facts. \\\n",
    "    However, your notes should be concise and easy to read. \\\n",
    "    The notes should be between 250 and 350 words, and they should be formatted as bullet points. \\\n",
    "\n",
    "    Summary: \\\n",
    "\"\"\"\n",
    "\n",
    "prompt = re.sub(r\" +\", \" \", prompt)\n",
    "\n",
    "response = mixtral.complete(prompt)"
   ]
  },
  {
   "cell_type": "code",
   "execution_count": 64,
   "metadata": {},
   "outputs": [
    {
     "data": {
      "text/plain": [
       "' - José Luis Picardo was an \"outstanding\" muralist and architectural illustrator.\\n- He traveled around Spain with Leopoldo Torres Balbás, making detailed drawings of vernacular architectural elements for Balbás\\' books.\\n- Picardo\\'s published architectural drawings were highly regarded, described as \"magnificent\" by Luis Menéndez-Pidal y Álvarez.\\n- In 1959, Picardo was commissioned to design a pack of baraja de naipes (playing cards) for Loewe, with personalized character designs.\\n- Around 1960, Picardo also designed a set of wooden chess pieces with intricate details.\\n- In 1960, Picardo was rewarded by the Dirección General de Arquitectura (DGA) with the publication of a book of his drawings, Dibujos de José Luis Picardo.\\n- From the early 1960s to 1985, Picardo dedicated much of his professional life to Paradores de Turismo de España, a state-run hotel chain.\\n- Picardo worked on the rehabilitation and conversion of rundown historic buildings into luxury hotels, maintaining and embellishing their ancient appearance while incorporating modern hotel arrangements.\\n- Picardo\\'s work for Paradores encouraged other Spanish and Portuguese architects to work in the same style for their state-run hotel chains.\\n- Picardo\\'s Parador projects are highly regarded by other professionals and hotel guests for their historical imagery and romance.'"
      ]
     },
     "execution_count": 64,
     "metadata": {},
     "output_type": "execute_result"
    }
   ],
   "source": [
    "response.text"
   ]
  }
 ],
 "metadata": {
  "kernelspec": {
   "display_name": "LongRAG",
   "language": "python",
   "name": "python3"
  },
  "language_info": {
   "codemirror_mode": {
    "name": "ipython",
    "version": 3
   },
   "file_extension": ".py",
   "mimetype": "text/x-python",
   "name": "python",
   "nbconvert_exporter": "python",
   "pygments_lexer": "ipython3",
   "version": "3.10.14"
  }
 },
 "nbformat": 4,
 "nbformat_minor": 2
}
