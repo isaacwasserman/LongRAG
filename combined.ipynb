{
 "cells": [
  {
   "cell_type": "code",
   "execution_count": null,
   "metadata": {},
   "outputs": [
    {
     "name": "stderr",
     "output_type": "stream",
     "text": [
      "/Users/isaac/miniforge3/envs/LongRAG/lib/python3.10/site-packages/datasets/load.py:1461: FutureWarning: The repository for bigainlco/LooGLE contains custom code which must be executed to correctly load the dataset. You can inspect the repository content at https://hf.co/datasets/bigainlco/LooGLE\n",
      "You can avoid this message in future by passing the argument `trust_remote_code=True`.\n",
      "Passing `trust_remote_code=True` will be mandatory to load this dataset from the next major release of `datasets`.\n",
      "  warnings.warn(\n"
     ]
    }
   ],
   "source": [
    "%load_ext autoreload\n",
    "%autoreload 2\n",
    "\n",
    "\n",
    "from rag_components import *\n",
    "from llama_index.core.retrievers import VectorIndexRetriever\n",
    "\n",
    "import re"
   ]
  },
  {
   "cell_type": "code",
   "execution_count": null,
   "metadata": {},
   "outputs": [],
   "source": [
    "def answer_reading_comprehension_with_union(\n",
    "    question, context_title, context_text, top_k=2, chunk_size=1024, chunk_overlap=200, qa_llm=gpt4\n",
    "):\n",
    "    \"\"\"\n",
    "    Answer a question given a context, using question generation.\n",
    "\n",
    "    Args:\n",
    "        question (str): The question to answer\n",
    "        context_title (str): The title of the context\n",
    "        context_text (str): The text of the context\n",
    "        top_k (int): The number of top matching chunks to retrieve\n",
    "\n",
    "    Returns:\n",
    "        str: The answer to the question\n",
    "    \"\"\"\n",
    "\n",
    "    raw_index = get_index_by_title(context_title)\n",
    "    summary_index = get_index_by_title(context_title + \"_summaries\")\n",
    "    question_index = get_index_by_title(context_title + \"_questions\")\n",
    "    combined_index = index_union([raw_index, summary_index, question_index])\n",
    "    retriever = VectorIndexRetriever(\n",
    "        index=combined_index,\n",
    "        similarity_top_k=top_k * 32,\n",
    "    )\n",
    "    top_nodes = retriever.retrieve(question)\n",
    "\n",
    "    unique_top_k_raw_text_ids = []\n",
    "    unique_top_k_nodes = []\n",
    "    for node in top_nodes:\n",
    "        if \"summary_\" in node.node.id_:\n",
    "            raw_text_id = node.node.id_.replace(\"summary_\", \"text_chunk_\")\n",
    "        elif \"question_\" in node.node.id_:\n",
    "            raw_text_id = \"_\".join(node.node.id_.replace(\"question_\", \"text_chunk_\").split(\"_\")[:-1])\n",
    "        else:\n",
    "            raw_text_id = node.node.id_\n",
    "        if raw_text_id not in unique_top_k_raw_text_ids:\n",
    "            unique_top_k_raw_text_ids.append(raw_text_id)\n",
    "            unique_top_k_nodes.append(node)\n",
    "            if len(unique_top_k_nodes) == top_k:\n",
    "                break\n",
    "\n",
    "    nodes_to_include = [get_node_by_id(raw_index, raw_text_id) for raw_text_id in unique_top_k_raw_text_ids]\n",
    "    texts_to_include = [node.text for node in nodes_to_include]\n",
    "    texts_to_include_combined = \" \".join(texts_to_include)\n",
    "\n",
    "    response = answer_reading_comprehension(question, texts_to_include_combined, qa_llm=qa_llm)\n",
    "\n",
    "    top_chunks_info = [\n",
    "        {\n",
    "            \"feature_type\": (\n",
    "                \"summary\"\n",
    "                if \"summary_\" in unique_top_k_nodes[i].node.id_\n",
    "                else \"question\" if \"question_\" in unique_top_k_nodes[i].node.id_ else \"text\"\n",
    "            ),\n",
    "            \"feature_score\": unique_top_k_nodes[i].score,\n",
    "            \"feature_rank\": i,\n",
    "            \"text_score\": similarity_score(question, context_title, node.id_),\n",
    "            \"feature\": unique_top_k_nodes[i].node.text,\n",
    "            \"text\": nodes_to_include[i].text,\n",
    "        }\n",
    "        for i in range(len(nodes_to_include))\n",
    "    ]\n",
    "\n",
    "    additional_info = {\n",
    "        \"top_chunks_info\": top_chunks_info,\n",
    "    }\n",
    "    return response, additional_info"
   ]
  }
 ],
 "metadata": {
  "language_info": {
   "name": "python"
  }
 },
 "nbformat": 4,
 "nbformat_minor": 2
}
