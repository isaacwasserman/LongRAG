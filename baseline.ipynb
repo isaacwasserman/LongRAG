{
 "cells": [
  {
   "cell_type": "code",
   "execution_count": 1,
   "metadata": {},
   "outputs": [
    {
     "name": "stderr",
     "output_type": "stream",
     "text": [
      "/Users/isaac/miniforge3/envs/LongRAG/lib/python3.10/site-packages/datasets/load.py:1461: FutureWarning: The repository for bigainlco/LooGLE contains custom code which must be executed to correctly load the dataset. You can inspect the repository content at https://hf.co/datasets/bigainlco/LooGLE\n",
      "You can avoid this message in future by passing the argument `trust_remote_code=True`.\n",
      "Passing `trust_remote_code=True` will be mandatory to load this dataset from the next major release of `datasets`.\n",
      "  warnings.warn(\n"
     ]
    }
   ],
   "source": [
    "%load_ext autoreload\n",
    "%autoreload 2\n",
    "\n",
    "from rag_components import *\n",
    "from llama_index.core.retrievers import VectorIndexRetriever"
   ]
  },
  {
   "cell_type": "markdown",
   "metadata": {},
   "source": [
    "## Baseline Specific Components\n"
   ]
  },
  {
   "cell_type": "code",
   "execution_count": 10,
   "metadata": {},
   "outputs": [],
   "source": [
    "def answer_reading_comprehension_baseline(\n",
    "    question, context_title, context_text, chunk_size=1024, chunk_overlap=200, top_k=2, qa_llm=mistral_large\n",
    "):\n",
    "    \"\"\"\n",
    "    Answer a question given a context.\n",
    "\n",
    "    Args:\n",
    "        question (str): The question to answer\n",
    "        context_title (str): The title of the context\n",
    "        context_text (str): The text of the context\n",
    "        features (list, optional): The features to generate from the context. Defaults to [\"summary\"].\n",
    "\n",
    "    Returns:\n",
    "        str: The answer to the question\n",
    "    \"\"\"\n",
    "    text_index = create_index_from_text_with_ids(\n",
    "        context_text, context_title, chunk_size=chunk_size, chunk_overlap=chunk_overlap\n",
    "    )\n",
    "\n",
    "    # Query the vector store to find top matching chunks\n",
    "    retriever = VectorIndexRetriever(\n",
    "        index=text_index,\n",
    "        similarity_top_k=top_k,\n",
    "    )\n",
    "    top_chunks = retriever.retrieve(question)\n",
    "\n",
    "    # Extract and combine the text from the top matching chunks for use as context\n",
    "    top_chunks_text = [chunk.node.text for chunk in top_chunks]\n",
    "    top_chunks_text_combined = \" \".join(top_chunks_text)\n",
    "\n",
    "    raw_text_chunk_count = 0\n",
    "    summary_chunk_count = 0\n",
    "    for chunk in top_chunks:\n",
    "        if chunk.node.id_.startswith(\"text_chunk_\"):\n",
    "            raw_text_chunk_count += 1\n",
    "\n",
    "    # Use the combined context of top chunks to generate an answer to the question\n",
    "    # Construct a prompt that guides the LLM to consider the context and answer the question subjectively or conceptually\n",
    "    response = answer_reading_comprehension(question, top_chunks_text_combined, qa_llm=qa_llm)\n",
    "    additional_info = {\n",
    "        \"raw_text_chunk_count\": raw_text_chunk_count,\n",
    "        \"summary_chunk_count\": summary_chunk_count,\n",
    "        \"top_chunks_text\": top_chunks_text,\n",
    "    }\n",
    "    return response, additional_info"
   ]
  },
  {
   "cell_type": "markdown",
   "metadata": {},
   "source": [
    "## Inference\n"
   ]
  },
  {
   "cell_type": "code",
   "execution_count": null,
   "metadata": {},
   "outputs": [],
   "source": [
    "debug_lim = 100\n",
    "chunk_sizes = [64, 128, 256, 512, 1024, 2048]\n",
    "topks = [32, 16, 8, 4, 2, 1]\n",
    "chunk_overlaps = [10, 25, 50, 100, 200, 400]\n",
    "for idx in range(6):\n",
    "    print(\"Generating output for chunk size\", chunk_sizes[idx])\n",
    "    output_file = f\"output/baseline_mistral_large_100_chunksize{chunk_sizes[idx]}.jsonl\"\n",
    "    test_longdep_qa(\n",
    "        answer_reading_comprehension_baseline,\n",
    "        output_file=output_file,\n",
    "        debug_lim=debug_lim,\n",
    "        qa_llm=mistral_large,\n",
    "        chunk_size=chunk_sizes[idx],\n",
    "        top_k=topks[idx],\n",
    "        chunk_overlap=chunk_overlaps[idx],\n",
    "    )"
   ]
  },
  {
   "cell_type": "code",
   "execution_count": 7,
   "metadata": {},
   "outputs": [
    {
     "name": "stdout",
     "output_type": "stream",
     "text": [
      "results for chunk size 64\n",
      "Rouge Metrics: {'rouge1': 0.216419454278109, 'rouge2': 0.0934216343717468, 'rougeL': 0.17430455397773975, 'rougeLsum': 0.18084025603042386}\n",
      "LLM Self-Score: 0.43\n",
      "results for chunk size 128\n",
      "Rouge Metrics: {'rouge1': 0.209221089562154, 'rouge2': 0.08783360287943325, 'rougeL': 0.16709132020090461, 'rougeLsum': 0.17575407845835672}\n",
      "LLM Self-Score: 0.46\n",
      "results for chunk size 256\n",
      "Rouge Metrics: {'rouge1': 0.24940623044942137, 'rouge2': 0.12639135866964885, 'rougeL': 0.2060339176221932, 'rougeLsum': 0.21397718587540734}\n",
      "LLM Self-Score: 0.48\n",
      "results for chunk size 512\n",
      "Rouge Metrics: {'rouge1': 0.22266186555191453, 'rouge2': 0.10801840979532562, 'rougeL': 0.18916734041343425, 'rougeLsum': 0.19464604319670148}\n",
      "LLM Self-Score: 0.48\n",
      "results for chunk size 1024\n",
      "Rouge Metrics: {'rouge1': 0.21212331689168298, 'rouge2': 0.07781696303614188, 'rougeL': 0.16698583498762326, 'rougeLsum': 0.17219841649735634}\n",
      "LLM Self-Score: 0.39\n",
      "results for chunk size 2048\n",
      "Rouge Metrics: {'rouge1': 0.19052719420751213, 'rouge2': 0.06748494108978265, 'rougeL': 0.15218208687300974, 'rougeLsum': 0.16039871207757891}\n",
      "LLM Self-Score: 0.35\n"
     ]
    }
   ],
   "source": [
    "for idx in range(6):\n",
    "    output_file = f\"output/baseline_mistral_large_100_chunksize{chunk_sizes[idx]}.jsonl\"\n",
    "    rouge_metrics = get_rouge_metrics(output_file)\n",
    "    print(\"results for chunk size\", chunk_sizes[idx])\n",
    "    print(\"Rouge Metrics:\", rouge_metrics)\n",
    "\n",
    "    self_score = llm_self_score(output_file, llm=gpt4)\n",
    "    print(\"LLM Self-Score:\", self_score)"
   ]
  }
 ],
 "metadata": {
  "kernelspec": {
   "display_name": "LongRAG",
   "language": "python",
   "name": "python3"
  },
  "language_info": {
   "codemirror_mode": {
    "name": "ipython",
    "version": 3
   },
   "file_extension": ".py",
   "mimetype": "text/x-python",
   "name": "python",
   "nbconvert_exporter": "python",
   "pygments_lexer": "ipython3",
   "version": "3.10.14"
  }
 },
 "nbformat": 4,
 "nbformat_minor": 2
}
