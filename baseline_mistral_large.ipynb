{
 "cells": [
  {
   "cell_type": "code",
   "execution_count": 5,
   "metadata": {},
   "outputs": [
    {
     "name": "stdout",
     "output_type": "stream",
     "text": [
      "The autoreload extension is already loaded. To reload it, use:\n",
      "  %reload_ext autoreload\n"
     ]
    }
   ],
   "source": [
    "%load_ext autoreload\n",
    "%autoreload 2\n",
    "\n",
    "\n",
    "from rag_components import *\n",
    "from llama_index.core.retrievers import VectorIndexRetriever\n",
    "\n",
    "from rich.progress import track\n",
    "\n",
    "import re"
   ]
  },
  {
   "cell_type": "markdown",
   "metadata": {},
   "source": [
    "## Baseline Specific Components\n"
   ]
  },
  {
   "cell_type": "code",
   "execution_count": 6,
   "metadata": {},
   "outputs": [],
   "source": [
    "def answer_reading_comprehension(question, context_title, context_text, qa_llm, top_k=2):\n",
    "    \"\"\"\n",
    "    Answer a question given a context.\n",
    "\n",
    "    Args:\n",
    "        question (str): The question to answer\n",
    "        context_title (str): The title of the context\n",
    "        context_text (str): The text of the context\n",
    "        features (list, optional): The features to generate from the context. Defaults to [\"summary\"].\n",
    "\n",
    "    Returns:\n",
    "        str: The answer to the question\n",
    "    \"\"\"\n",
    "    text_index = create_index_from_text_with_ids(context_text, context_title, chunk_size=1024, chunk_overlap=200)\n",
    "\n",
    "    # Query the vector store to find top matching chunks\n",
    "    retriever = VectorIndexRetriever(\n",
    "        index=text_index,\n",
    "        similarity_top_k=top_k,\n",
    "    )\n",
    "    top_chunks = retriever.retrieve(question)\n",
    "\n",
    "    # Extract and combine the text from the top matching chunks for use as context\n",
    "    top_chunks_text = [chunk.node.text for chunk in top_chunks]\n",
    "    top_chunks_text_combined = \" \".join(top_chunks_text)\n",
    "\n",
    "    raw_text_chunk_count = 0\n",
    "    summary_chunk_count = 0\n",
    "    for chunk in top_chunks:\n",
    "        if chunk.node.id_.startswith(\"text_chunk_\"):\n",
    "            raw_text_chunk_count += 1\n",
    "\n",
    "    # Use the combined context of top chunks to generate an answer to the question\n",
    "    # Construct a prompt that guides the LLM to consider the context and answer the question subjectively or conceptually\n",
    "    prompt = f\"\"\"Consider the following context with depth and thoughtfulness: {top_chunks_text_combined}\\n\\n\\\n",
    "        Respond to the following question with insight and nuance. Answer concisely, often in one \\\n",
    "        sentence or less and sometimes in the form of a list or structured text. If the question \\\n",
    "        asks you to order events, refer to the events by their number (e.g. \"1. third event, 2. second \\\n",
    "        event, 3. first event\" -> \"3, 2, 1\"). Answer multiple choice questions using the number which \\\n",
    "        corresponds to the correct answer (e.g. \"1. A, 2. B, 3. C\" -> \"2\"). Do not include the \\\n",
    "        question in your answer. \\\n",
    "        \\n\\n\\\n",
    "        Question: {question}\\n\\n\\\n",
    "        Answer: \"\"\"\n",
    "    response = qa_llm.complete(prompt).text\n",
    "    additional_info = {\n",
    "        \"raw_text_chunk_count\": raw_text_chunk_count,\n",
    "        \"summary_chunk_count\": summary_chunk_count,\n",
    "        \"top_chunks_text\": top_chunks_text,\n",
    "    }\n",
    "    return response, additional_info"
   ]
  },
  {
   "cell_type": "markdown",
   "metadata": {},
   "source": [
    "## Inference\n"
   ]
  },
  {
   "cell_type": "code",
   "execution_count": 7,
   "metadata": {},
   "outputs": [
    {
     "data": {
      "application/vnd.jupyter.widget-view+json": {
       "model_id": "56fa27e73d224e2e999eed7781b58ea5",
       "version_major": 2,
       "version_minor": 0
      },
      "text/plain": [
       "Answering questions:   0%|          | 0/100 [00:00<?, ?it/s]"
      ]
     },
     "metadata": {},
     "output_type": "display_data"
    }
   ],
   "source": [
    "debug_lim = 100\n",
    "output_file = \"output/baseline_mistral_large_100.jsonl\"\n",
    "test_longdep_qa(answer_reading_comprehension, output_file=output_file, debug_lim=debug_lim, qa_llm=mistral_large)"
   ]
  },
  {
   "cell_type": "code",
   "execution_count": 9,
   "metadata": {},
   "outputs": [
    {
     "name": "stdout",
     "output_type": "stream",
     "text": [
      "Rouge Metrics: {'rouge1': 0.18182868588261636, 'rouge2': 0.07019693366877688, 'rougeL': 0.14806468928100985, 'rougeLsum': 0.1556604420633752}\n",
      "LLM Self-Score: 0.39\n"
     ]
    }
   ],
   "source": [
    "rouge_metrics = get_rouge_metrics(output_file)\n",
    "print(\"Rouge Metrics:\", rouge_metrics)\n",
    "\n",
    "self_score = llm_self_score(output_file, llm=gpt4)\n",
    "print(\"LLM Self-Score:\", self_score)"
   ]
  },
  {
   "cell_type": "code",
   "execution_count": null,
   "metadata": {},
   "outputs": [],
   "source": []
  }
 ],
 "metadata": {
  "kernelspec": {
   "display_name": "LongRAG",
   "language": "python",
   "name": "python3"
  },
  "language_info": {
   "codemirror_mode": {
    "name": "ipython",
    "version": 3
   },
   "file_extension": ".py",
   "mimetype": "text/x-python",
   "name": "python",
   "nbconvert_exporter": "python",
   "pygments_lexer": "ipython3",
   "version": "3.10.14"
  }
 },
 "nbformat": 4,
 "nbformat_minor": 2
}
