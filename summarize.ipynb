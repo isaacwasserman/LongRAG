{
 "cells": [
  {
   "cell_type": "code",
   "execution_count": 1,
   "metadata": {},
   "outputs": [
    {
     "name": "stderr",
     "output_type": "stream",
     "text": [
      "/Users/isaac/miniforge3/envs/LongRAG/lib/python3.10/site-packages/datasets/load.py:1461: FutureWarning: The repository for bigainlco/LooGLE contains custom code which must be executed to correctly load the dataset. You can inspect the repository content at https://hf.co/datasets/bigainlco/LooGLE\n",
      "You can avoid this message in future by passing the argument `trust_remote_code=True`.\n",
      "Passing `trust_remote_code=True` will be mandatory to load this dataset from the next major release of `datasets`.\n",
      "  warnings.warn(\n"
     ]
    }
   ],
   "source": [
    "%load_ext autoreload\n",
    "%autoreload 2\n",
    "\n",
    "\n",
    "from rag_components import *\n",
    "from llama_index.core.retrievers import VectorIndexRetriever\n",
    "\n",
    "import re"
   ]
  },
  {
   "cell_type": "markdown",
   "metadata": {},
   "source": [
    "## Summarization Specific Components\n"
   ]
  },
  {
   "cell_type": "code",
   "execution_count": 2,
   "metadata": {},
   "outputs": [],
   "source": [
    "def summarize_chunks(chunks, summarizer_llm=mixtral, text_title=None):\n",
    "    \"\"\"\n",
    "    Generate a summary for each text chunk using the summarizer_llm.\n",
    "\n",
    "    Args:\n",
    "        chunks (list[str]): A list of text chunks to be summarized.\n",
    "\n",
    "    Returns:\n",
    "        list[str]: Summaries of the text chunks.\n",
    "    \"\"\"\n",
    "    summaries = []\n",
    "    if text_title is None:\n",
    "        text_title = \"chunks\"\n",
    "    for chunk in tqdm(chunks, desc=f'Summarizing \"{text_title}\"', leave=False):\n",
    "        if len(summaries) == 0:\n",
    "            prompt = f\"\"\"<s>[INST]Summarize the following text conceptually. \\\n",
    "                The summary should paraphrase the original text, be significantly \\\n",
    "                shorter, retain all propositions, and be able to replace the \\\n",
    "                original text. Here is the text to be summarized:\\n\\n{chunk}[/INST]\"\"\"\n",
    "        else:\n",
    "            prompt = f\"\"\"<s>[INST]Summarize the following text conceptually in the context of the text that precedes it. \\\n",
    "                The summary should paraphrase the original text, be significantly \\\n",
    "                shorter, retain all propositions, and be able to replace the \\\n",
    "                original text. Here is the the context:\\n\\n{summaries[-1]}\\n\\n\\\n",
    "                Summarize the following text:\\n\\n{chunk}[/INST]\"\"\"\n",
    "\n",
    "        prompt = re.sub(r\"\\s+\", \" \", prompt)\n",
    "        response = summarizer_llm.complete(prompt).text.strip()\n",
    "        summaries.append(response)\n",
    "    return summaries\n",
    "\n",
    "\n",
    "def summarize_index(text_title, overwrite_existing=False, summarizer_llm=Settings.llm):\n",
    "    \"\"\"\n",
    "    Generate a summary for each text chunk in the index using the summarizer_llm.\n",
    "\n",
    "    Args:\n",
    "        index (VectorStoreIndex): The index containing text chunks to be summarized.\n",
    "\n",
    "    Returns:\n",
    "        VectorStoreIndex: An index containing summaries for each text chunk.\n",
    "    \"\"\"\n",
    "    if not overwrite_existing:\n",
    "        existing_index = get_index_by_title(f\"{text_title}_summaries\")\n",
    "        if existing_index:\n",
    "            return existing_index\n",
    "    index = get_index_by_title(text_title)\n",
    "    text_chunk_ids = get_ids_from_index(index)\n",
    "    id_nums = [int(id_.split(\"_\")[-1]) for id_ in text_chunk_ids]\n",
    "    summary_ids = [f\"summary_{id_num}\" for id_num in id_nums]\n",
    "    chunks = [get_text_by_id(index, node_id) for node_id in text_chunk_ids]\n",
    "    summaries = summarize_chunks(chunks, summarizer_llm, text_title=text_title)\n",
    "\n",
    "    summary_index = create_index_from_chunks_with_ids(\n",
    "        summaries, summary_ids, f\"{text_title}_summaries\", overwrite_existing=overwrite_existing\n",
    "    )\n",
    "    return summary_index\n",
    "\n",
    "\n",
    "def answer_reading_comprehension_with_summarization(\n",
    "    question, context_title, context_text, top_k=2, chunk_size=1024, chunk_overlap=200, qa_llm=gpt4\n",
    "):\n",
    "    \"\"\"\n",
    "    Answer a question given a context.\n",
    "\n",
    "    Args:\n",
    "        question (str): The question to answer\n",
    "        context_title (str): The title of the context\n",
    "        context_text (str): The text of the context\n",
    "        top_k (int): The number of top matching chunks to retrieve\n",
    "\n",
    "    Returns:\n",
    "        str: The answer to the question\n",
    "    \"\"\"\n",
    "\n",
    "    # Find the top k most relevant summary chunks\n",
    "    text_index_title = f\"{context_title}\"\n",
    "    summary_index = summarize_index(text_index_title, summarizer_llm=mixtral)\n",
    "    summary_retriever = VectorIndexRetriever(\n",
    "        index=summary_index,\n",
    "        similarity_top_k=top_k,\n",
    "    )\n",
    "    top_summary_chunks = summary_retriever.retrieve(question)\n",
    "\n",
    "    # Identify the ids of the corresponding raw text chunks\n",
    "    retrieved_summary_ids = [chunk.node.id_ for chunk in top_summary_chunks]\n",
    "    corresponding_text_ids = [f\"text_chunk_{summary_id.split('_')[-1]}\" for summary_id in retrieved_summary_ids]\n",
    "\n",
    "    # Get the correponding raw text chunks\n",
    "    text_index = create_index_from_text_with_ids(\n",
    "        context_text, text_index_title, chunk_size=chunk_size, chunk_overlap=chunk_overlap\n",
    "    )\n",
    "    corresonding_chunks = [get_node_by_id(text_index, text_id) for text_id in corresponding_text_ids]\n",
    "\n",
    "    # Find the top k * 10 most relevant raw text chunks, and try to find the rank of the chunks which correspond to the top summary chunks\n",
    "    text_retriever = VectorIndexRetriever(\n",
    "        index=text_index,\n",
    "        similarity_top_k=top_k * 10,\n",
    "    )\n",
    "    retrieved_texts = text_retriever.retrieve(question)\n",
    "    text_chunk_ranks = []\n",
    "    for i, chunk in enumerate(corresonding_chunks):\n",
    "        id_ = chunk.id_\n",
    "        rank = None\n",
    "        for j, retrieved_text in enumerate(retrieved_texts):\n",
    "            if retrieved_text.node.id_ == id_:\n",
    "                rank = j\n",
    "                break\n",
    "        text_chunk_ranks.append(rank)\n",
    "\n",
    "    corresponding_chunks_text = [chunk.text for chunk in corresonding_chunks]\n",
    "    corresponding_chunks_text_combined = \" \".join(corresponding_chunks_text)\n",
    "\n",
    "    response = answer_reading_comprehension(question, corresponding_chunks_text_combined, qa_llm=qa_llm)\n",
    "\n",
    "    top_chunks_info = [\n",
    "        {\n",
    "            \"summary_score\": top_summary_chunks[i].score,\n",
    "            \"summary_rank\": i,\n",
    "            \"text_score\": similarity_score(question, text_index_title, corresonding_chunks[i].id_),\n",
    "            \"text_rank\": text_chunk_ranks[i],\n",
    "            \"summary\": top_summary_chunks[i].node.text,\n",
    "            \"text\": corresonding_chunks[i].text,\n",
    "        }\n",
    "        for i in range(len(corresonding_chunks))\n",
    "    ]\n",
    "\n",
    "    additional_info = {\n",
    "        \"top_chunks_info\": top_chunks_info,\n",
    "    }\n",
    "    return response, additional_info"
   ]
  },
  {
   "cell_type": "markdown",
   "metadata": {},
   "source": [
    "## Inference\n"
   ]
  },
  {
   "cell_type": "code",
   "execution_count": 6,
   "metadata": {},
   "outputs": [
    {
     "name": "stdout",
     "output_type": "stream",
     "text": [
      "Generating output for chunk size 1024\n"
     ]
    },
    {
     "data": {
      "application/vnd.jupyter.widget-view+json": {
       "model_id": "820cdd8bbb8c4ab9a9d74bc94de83511",
       "version_major": 2,
       "version_minor": 0
      },
      "text/plain": [
       "Answering questions:   0%|          | 0/100 [00:00<?, ?it/s]"
      ]
     },
     "metadata": {},
     "output_type": "display_data"
    },
    {
     "data": {
      "application/vnd.jupyter.widget-view+json": {
       "model_id": "989f0fcd0ebe4eb3a97a2da0c31b52b6",
       "version_major": 2,
       "version_minor": 0
      },
      "text/plain": [
       "Summarizing \"2023 French pension reform unrest_chunksize1024\":   0%|          | 0/23 [00:00<?, ?it/s]"
      ]
     },
     "metadata": {},
     "output_type": "display_data"
    },
    {
     "data": {
      "application/vnd.jupyter.widget-view+json": {
       "model_id": "702673dca30b412ca51a7153ed1028d6",
       "version_major": 2,
       "version_minor": 0
      },
      "text/plain": [
       "Summarizing \"2023 Turkey–Syria earthquake_chunksize1024\":   0%|          | 0/24 [00:00<?, ?it/s]"
      ]
     },
     "metadata": {},
     "output_type": "display_data"
    },
    {
     "data": {
      "application/vnd.jupyter.widget-view+json": {
       "model_id": "288208ff26fe4ea8b3506ab4d5fc5c2a",
       "version_major": 2,
       "version_minor": 0
      },
      "text/plain": [
       "Summarizing \"Claude List_chunksize1024\":   0%|          | 0/22 [00:00<?, ?it/s]"
      ]
     },
     "metadata": {},
     "output_type": "display_data"
    },
    {
     "data": {
      "application/vnd.jupyter.widget-view+json": {
       "model_id": "2711e3512fa2470c85a0e45f652c24b8",
       "version_major": 2,
       "version_minor": 0
      },
      "text/plain": [
       "Summarizing \"Climate change in Washington (state)_chunksize1024\":   0%|          | 0/22 [00:00<?, ?it/s]"
      ]
     },
     "metadata": {},
     "output_type": "display_data"
    },
    {
     "data": {
      "application/vnd.jupyter.widget-view+json": {
       "model_id": "d0fcddb6b137458b8ab7c97f7db5773a",
       "version_major": 2,
       "version_minor": 0
      },
      "text/plain": [
       "Summarizing \"Execution of Nagaenthran K. Dharmalingam_chunksize1024\":   0%|          | 0/17 [00:00<?, ?it/s]"
      ]
     },
     "metadata": {},
     "output_type": "display_data"
    },
    {
     "data": {
      "application/vnd.jupyter.widget-view+json": {
       "model_id": "d97e822d258e4b3e8ea24ed3a1490b21",
       "version_major": 2,
       "version_minor": 0
      },
      "text/plain": [
       "Summarizing \"Foreign Cattle Market_chunksize1024\":   0%|          | 0/20 [00:00<?, ?it/s]"
      ]
     },
     "metadata": {},
     "output_type": "display_data"
    },
    {
     "data": {
      "application/vnd.jupyter.widget-view+json": {
       "model_id": "096528b4655f4ffcb4e96c9db7c60eee",
       "version_major": 2,
       "version_minor": 0
      },
      "text/plain": [
       "Summarizing \"Governorship of Glenn Youngkin_chunksize1024\":   0%|          | 0/23 [00:00<?, ?it/s]"
      ]
     },
     "metadata": {},
     "output_type": "display_data"
    },
    {
     "data": {
      "application/vnd.jupyter.widget-view+json": {
       "model_id": "670106809c424bfeb680366b1ef9b383",
       "version_major": 2,
       "version_minor": 0
      },
      "text/plain": [
       "Summarizing \"Hells Angels MC criminal allegations and incidents in the United States_chunksize1024\":   0%|    …"
      ]
     },
     "metadata": {},
     "output_type": "display_data"
    },
    {
     "data": {
      "application/vnd.jupyter.widget-view+json": {
       "model_id": "0c2c334769b24c3b8d7a2182decd10cc",
       "version_major": 2,
       "version_minor": 0
      },
      "text/plain": [
       "Summarizing \"History of NBC_chunksize1024\":   0%|          | 0/19 [00:00<?, ?it/s]"
      ]
     },
     "metadata": {},
     "output_type": "display_data"
    },
    {
     "data": {
      "application/vnd.jupyter.widget-view+json": {
       "model_id": "f00e3553836c4976aee2ad8224df69b1",
       "version_major": 2,
       "version_minor": 0
      },
      "text/plain": [
       "Summarizing \"Light in painting_chunksize1024\":   0%|          | 0/66 [00:00<?, ?it/s]"
      ]
     },
     "metadata": {},
     "output_type": "display_data"
    },
    {
     "data": {
      "application/vnd.jupyter.widget-view+json": {
       "model_id": "217408f11cef41868243f948e3299aa1",
       "version_major": 2,
       "version_minor": 0
      },
      "text/plain": [
       "Summarizing \"Nightlife in Belgrade_chunksize1024\":   0%|          | 0/31 [00:00<?, ?it/s]"
      ]
     },
     "metadata": {},
     "output_type": "display_data"
    },
    {
     "data": {
      "application/vnd.jupyter.widget-view+json": {
       "model_id": "a7dcf2f240c744d795047aa7dc5b6471",
       "version_major": 2,
       "version_minor": 0
      },
      "text/plain": [
       "Summarizing \"Police brutality by country_chunksize1024\":   0%|          | 0/31 [00:00<?, ?it/s]"
      ]
     },
     "metadata": {},
     "output_type": "display_data"
    },
    {
     "name": "stdout",
     "output_type": "stream",
     "text": [
      "Generating output for chunk size 2048\n"
     ]
    },
    {
     "data": {
      "application/vnd.jupyter.widget-view+json": {
       "model_id": "15a3b73ce076458681eccc99988bfb9f",
       "version_major": 2,
       "version_minor": 0
      },
      "text/plain": [
       "Answering questions:   0%|          | 0/100 [00:00<?, ?it/s]"
      ]
     },
     "metadata": {},
     "output_type": "display_data"
    },
    {
     "data": {
      "application/vnd.jupyter.widget-view+json": {
       "model_id": "e0bb6a60fbe24c019e94f3c9612c1606",
       "version_major": 2,
       "version_minor": 0
      },
      "text/plain": [
       "Summarizing \"José Luis Picardo_chunksize2048\":   0%|          | 0/9 [00:00<?, ?it/s]"
      ]
     },
     "metadata": {},
     "output_type": "display_data"
    },
    {
     "data": {
      "application/vnd.jupyter.widget-view+json": {
       "model_id": "fc7962ca062146c49a575d768b83a05b",
       "version_major": 2,
       "version_minor": 0
      },
      "text/plain": [
       "Summarizing \"Urban planning of Barcelona_chunksize2048\":   0%|          | 0/16 [00:00<?, ?it/s]"
      ]
     },
     "metadata": {},
     "output_type": "display_data"
    },
    {
     "data": {
      "application/vnd.jupyter.widget-view+json": {
       "model_id": "3e46a86a2d464e518ab64d9b7a311e8b",
       "version_major": 2,
       "version_minor": 0
      },
      "text/plain": [
       "Summarizing \"2023 French pension reform unrest_chunksize2048\":   0%|          | 0/11 [00:00<?, ?it/s]"
      ]
     },
     "metadata": {},
     "output_type": "display_data"
    },
    {
     "data": {
      "application/vnd.jupyter.widget-view+json": {
       "model_id": "e990e456be8046b9a9af2d14453b0e41",
       "version_major": 2,
       "version_minor": 0
      },
      "text/plain": [
       "Summarizing \"2023 Turkey–Syria earthquake_chunksize2048\":   0%|          | 0/12 [00:00<?, ?it/s]"
      ]
     },
     "metadata": {},
     "output_type": "display_data"
    },
    {
     "data": {
      "application/vnd.jupyter.widget-view+json": {
       "model_id": "e24be87e66a249b0bd68cfdc7f0099b7",
       "version_major": 2,
       "version_minor": 0
      },
      "text/plain": [
       "Summarizing \"Claude List_chunksize2048\":   0%|          | 0/11 [00:00<?, ?it/s]"
      ]
     },
     "metadata": {},
     "output_type": "display_data"
    },
    {
     "data": {
      "application/vnd.jupyter.widget-view+json": {
       "model_id": "04810d48ed944861a0a2dd86da7ff10f",
       "version_major": 2,
       "version_minor": 0
      },
      "text/plain": [
       "Summarizing \"Climate change in Washington (state)_chunksize2048\":   0%|          | 0/11 [00:00<?, ?it/s]"
      ]
     },
     "metadata": {},
     "output_type": "display_data"
    },
    {
     "data": {
      "application/vnd.jupyter.widget-view+json": {
       "model_id": "451f19ea96184b33b6ea70b48e6a4e29",
       "version_major": 2,
       "version_minor": 0
      },
      "text/plain": [
       "Summarizing \"Execution of Nagaenthran K. Dharmalingam_chunksize2048\":   0%|          | 0/9 [00:00<?, ?it/s]"
      ]
     },
     "metadata": {},
     "output_type": "display_data"
    },
    {
     "data": {
      "application/vnd.jupyter.widget-view+json": {
       "model_id": "d239dcc6725c4c3ea0ada5cc3a3d18c3",
       "version_major": 2,
       "version_minor": 0
      },
      "text/plain": [
       "Summarizing \"Foreign Cattle Market_chunksize2048\":   0%|          | 0/10 [00:00<?, ?it/s]"
      ]
     },
     "metadata": {},
     "output_type": "display_data"
    },
    {
     "data": {
      "application/vnd.jupyter.widget-view+json": {
       "model_id": "98065c7e69664c51be002ad9e7376d89",
       "version_major": 2,
       "version_minor": 0
      },
      "text/plain": [
       "Summarizing \"Governorship of Glenn Youngkin_chunksize2048\":   0%|          | 0/11 [00:00<?, ?it/s]"
      ]
     },
     "metadata": {},
     "output_type": "display_data"
    },
    {
     "data": {
      "application/vnd.jupyter.widget-view+json": {
       "model_id": "bd7e7bd6991f4140b33753801fe33062",
       "version_major": 2,
       "version_minor": 0
      },
      "text/plain": [
       "Summarizing \"Hells Angels MC criminal allegations and incidents in the United States_chunksize2048\":   0%|    …"
      ]
     },
     "metadata": {},
     "output_type": "display_data"
    },
    {
     "data": {
      "application/vnd.jupyter.widget-view+json": {
       "model_id": "97bc0dd226be49e0a93f4a32b61ffbd2",
       "version_major": 2,
       "version_minor": 0
      },
      "text/plain": [
       "Summarizing \"History of NBC_chunksize2048\":   0%|          | 0/9 [00:00<?, ?it/s]"
      ]
     },
     "metadata": {},
     "output_type": "display_data"
    },
    {
     "data": {
      "application/vnd.jupyter.widget-view+json": {
       "model_id": "72eb4cd7e6be491cb0892b1bc0c8a6ce",
       "version_major": 2,
       "version_minor": 0
      },
      "text/plain": [
       "Summarizing \"Light in painting_chunksize2048\":   0%|          | 0/33 [00:00<?, ?it/s]"
      ]
     },
     "metadata": {},
     "output_type": "display_data"
    },
    {
     "data": {
      "application/vnd.jupyter.widget-view+json": {
       "model_id": "5dbee5ac92e241beb88316ac3fb70806",
       "version_major": 2,
       "version_minor": 0
      },
      "text/plain": [
       "Summarizing \"Nightlife in Belgrade_chunksize2048\":   0%|          | 0/15 [00:00<?, ?it/s]"
      ]
     },
     "metadata": {},
     "output_type": "display_data"
    },
    {
     "data": {
      "application/vnd.jupyter.widget-view+json": {
       "model_id": "aa749378b43340c597a4ac5b03135514",
       "version_major": 2,
       "version_minor": 0
      },
      "text/plain": [
       "Summarizing \"Police brutality by country_chunksize2048\":   0%|          | 0/16 [00:00<?, ?it/s]"
      ]
     },
     "metadata": {},
     "output_type": "display_data"
    }
   ],
   "source": [
    "debug_lim = 100\n",
    "chunk_sizes = [64, 128, 256, 512, 1024, 2048]\n",
    "topks = [32, 16, 8, 4, 2, 1]\n",
    "chunk_overlaps = [10, 25, 50, 100, 200, 400]\n",
    "for idx in [4, 5]:\n",
    "    print(\"Generating output for chunk size\", chunk_sizes[idx])\n",
    "    output_file = f\"output/summarization_with_corresponding_in_context_mistral_large_chunksize{chunk_sizes[idx]}.jsonl\"\n",
    "    test_longdep_qa(\n",
    "        answer_reading_comprehension_with_summarization,\n",
    "        output_file=output_file,\n",
    "        debug_lim=debug_lim,\n",
    "        qa_llm=mistral_large,\n",
    "        chunk_size=chunk_sizes[idx],\n",
    "        top_k=topks[idx],\n",
    "        chunk_overlap=chunk_overlaps[idx],\n",
    "    )"
   ]
  },
  {
   "cell_type": "code",
   "execution_count": 7,
   "metadata": {},
   "outputs": [
    {
     "name": "stdout",
     "output_type": "stream",
     "text": [
      "results for chunk size 64\n",
      "Rouge Metrics: {'rouge1': 0.21413513946146512, 'rouge2': 0.08313601026808183, 'rougeL': 0.17072631348864503, 'rougeLsum': 0.1788868342644412}\n"
     ]
    },
    {
     "data": {
      "application/vnd.jupyter.widget-view+json": {
       "model_id": "6b46171f48f6419fa9dfe01bc9244c23",
       "version_major": 2,
       "version_minor": 0
      },
      "text/plain": [
       "  0%|          | 0/100 [00:00<?, ?it/s]"
      ]
     },
     "metadata": {},
     "output_type": "display_data"
    },
    {
     "name": "stdout",
     "output_type": "stream",
     "text": [
      "LLM Self-Score: 0.48\n",
      "results for chunk size 128\n",
      "Rouge Metrics: {'rouge1': 0.20423032446059544, 'rouge2': 0.0851716727217681, 'rougeL': 0.1667830263475073, 'rougeLsum': 0.17382134332796761}\n"
     ]
    },
    {
     "data": {
      "application/vnd.jupyter.widget-view+json": {
       "model_id": "b5ceb736ceae4cd79a0df897985c5eb2",
       "version_major": 2,
       "version_minor": 0
      },
      "text/plain": [
       "  0%|          | 0/100 [00:00<?, ?it/s]"
      ]
     },
     "metadata": {},
     "output_type": "display_data"
    },
    {
     "name": "stdout",
     "output_type": "stream",
     "text": [
      "LLM Self-Score: 0.41\n",
      "results for chunk size 256\n",
      "Rouge Metrics: {'rouge1': 0.2299616493631516, 'rouge2': 0.1011473277434797, 'rougeL': 0.18249313337933049, 'rougeLsum': 0.18978524596436142}\n"
     ]
    },
    {
     "data": {
      "application/vnd.jupyter.widget-view+json": {
       "model_id": "279eb0bbcdf5447589e87b59ac9c729c",
       "version_major": 2,
       "version_minor": 0
      },
      "text/plain": [
       "  0%|          | 0/100 [00:00<?, ?it/s]"
      ]
     },
     "metadata": {},
     "output_type": "display_data"
    },
    {
     "name": "stdout",
     "output_type": "stream",
     "text": [
      "LLM Self-Score: 0.49\n",
      "results for chunk size 512\n",
      "Rouge Metrics: {'rouge1': 0.2241489091421603, 'rouge2': 0.09915838106354438, 'rougeL': 0.17800752348333698, 'rougeLsum': 0.184543025337632}\n"
     ]
    },
    {
     "data": {
      "application/vnd.jupyter.widget-view+json": {
       "model_id": "4da5b555410945a8872ca506362a2be9",
       "version_major": 2,
       "version_minor": 0
      },
      "text/plain": [
       "  0%|          | 0/100 [00:00<?, ?it/s]"
      ]
     },
     "metadata": {},
     "output_type": "display_data"
    },
    {
     "name": "stdout",
     "output_type": "stream",
     "text": [
      "LLM Self-Score: 0.43\n",
      "results for chunk size 1024\n",
      "Rouge Metrics: {'rouge1': 0.20534375913108344, 'rouge2': 0.09652464487716507, 'rougeL': 0.17780626973191166, 'rougeLsum': 0.1801199412985628}\n"
     ]
    },
    {
     "data": {
      "application/vnd.jupyter.widget-view+json": {
       "model_id": "11c19a328dcc4e84a58f531a84ee8442",
       "version_major": 2,
       "version_minor": 0
      },
      "text/plain": [
       "  0%|          | 0/100 [00:00<?, ?it/s]"
      ]
     },
     "metadata": {},
     "output_type": "display_data"
    },
    {
     "name": "stdout",
     "output_type": "stream",
     "text": [
      "LLM Self-Score: 0.31\n",
      "results for chunk size 2048\n",
      "Rouge Metrics: {'rouge1': 0.20126564353602072, 'rouge2': 0.07106028098990794, 'rougeL': 0.16319346713666455, 'rougeLsum': 0.1723790819615725}\n"
     ]
    },
    {
     "data": {
      "application/vnd.jupyter.widget-view+json": {
       "model_id": "72f0c4facab04f9dbedf98fd8894d37b",
       "version_major": 2,
       "version_minor": 0
      },
      "text/plain": [
       "  0%|          | 0/100 [00:00<?, ?it/s]"
      ]
     },
     "metadata": {},
     "output_type": "display_data"
    },
    {
     "name": "stdout",
     "output_type": "stream",
     "text": [
      "LLM Self-Score: 0.31\n"
     ]
    }
   ],
   "source": [
    "for idx in range(6):\n",
    "    output_file = f\"output/summarization_with_corresponding_in_context_mistral_large_chunksize{chunk_sizes[idx]}.jsonl\"\n",
    "    rouge_metrics = get_rouge_metrics(output_file)\n",
    "    print(\"results for chunk size\", chunk_sizes[idx])\n",
    "    print(\"Rouge Metrics:\", rouge_metrics)\n",
    "\n",
    "    self_score = llm_self_score(output_file, llm=gpt4)\n",
    "    print(\"LLM Self-Score:\", self_score)"
   ]
  },
  {
   "cell_type": "code",
   "execution_count": null,
   "metadata": {},
   "outputs": [],
   "source": []
  }
 ],
 "metadata": {
  "kernelspec": {
   "display_name": "LongRAG",
   "language": "python",
   "name": "python3"
  },
  "language_info": {
   "codemirror_mode": {
    "name": "ipython",
    "version": 3
   },
   "file_extension": ".py",
   "mimetype": "text/x-python",
   "name": "python",
   "nbconvert_exporter": "python",
   "pygments_lexer": "ipython3",
   "version": "3.10.14"
  }
 },
 "nbformat": 4,
 "nbformat_minor": 2
}
